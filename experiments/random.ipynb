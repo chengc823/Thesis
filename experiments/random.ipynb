{
 "cells": [
  {
   "cell_type": "code",
   "execution_count": null,
   "metadata": {},
   "outputs": [],
   "source": [
    "from naslib.utils.io import read_config_from_yaml\n",
    "from naslib.config import FullConfig\n",
    "file_path = \"/Users/chengchen/GitHub/master_thesis/experiments/config.yml\"\n",
    "\n",
    "config = read_config_from_yaml(filepath=file_path, config_type=FullConfig)\n",
    "config.info()"
   ]
  },
  {
   "cell_type": "code",
   "execution_count": null,
   "metadata": {},
   "outputs": [],
   "source": [
    "from naslib.trial import trial\n",
    "import numpy as np\n",
    "from tqdm import tqdm\n",
    "\n",
    "TEST = True\n",
    "output_dir = \"/Users/chengchen/Desktop/test\" if TEST else None\n",
    "\n",
    "NUM_TRIALS = 1\n",
    "sampled_seeds = np.arange(0, NUM_TRIALS)\n",
    "for seed in tqdm(sampled_seeds, total=NUM_TRIALS):\n",
    "    seed = int(seed)\n",
    "    trial(config=config, seed=seed, dump_config=True, output_dir=output_dir)"
   ]
  },
  {
   "cell_type": "code",
   "execution_count": null,
   "metadata": {},
   "outputs": [],
   "source": [
    "import pickle\n",
    "\n",
    "filepath = f\"/Users/chengchen/Desktop/Experiments/acq_search=mutation/nasbench201/cifar10/acq=its/num_to_mutate=2/num_init=10/bananas__ensemble_mlp__CP_bootstrap__train_cal_split=3__num_quantiles=10/seed=2/search_log.pt\"\n",
    "\n",
    "with open(filepath, \"rb\") as f:\n",
    "    history, obs_and_dist = pickle.load(f)"
   ]
  },
  {
   "cell_type": "code",
   "execution_count": 96,
   "metadata": {},
   "outputs": [],
   "source": [
    "idx=100"
   ]
  },
  {
   "cell_type": "code",
   "execution_count": 97,
   "metadata": {},
   "outputs": [],
   "source": [
    "from naslib.optimizers.bananas.distribution import GaussianDist\n",
    "pred = obs_and_dist[idx][1].point_prediction\n",
    "gaussian = GaussianDist(loc=pred.mean(), scale=pred.std())"
   ]
  },
  {
   "cell_type": "code",
   "execution_count": null,
   "metadata": {},
   "outputs": [],
   "source": [
    "quantile = obs_and_dist[idx][1].distribution\n",
    "quantile.qk"
   ]
  },
  {
   "cell_type": "code",
   "execution_count": null,
   "metadata": {},
   "outputs": [],
   "source": [
    "import matplotlib.pyplot as plt\n",
    "import numpy as np\n",
    "\n",
    "x = np.linspace(50, 100, 1000)\n",
    "plt.plot(x, gaussian.pdf(x), label=\"gaussian\", alpha=0.8, color=\"blue\")\n",
    "plt.axvline(obs_and_dist[idx][0], color=\"blue\")\n",
    "\n",
    "densities = [quantile.pdf(x_i) for x_i in x]\n",
    "plt.axvline(obs_and_dist[idx][0], color=\"red\")\n",
    "plt.plot(x, densities, label=\"quantile\", alpha=0.8, color=\"red\")\n",
    "plt.legend()\n"
   ]
  },
  {
   "cell_type": "code",
   "execution_count": null,
   "metadata": {},
   "outputs": [],
   "source": []
  },
  {
   "cell_type": "code",
   "execution_count": null,
   "metadata": {},
   "outputs": [],
   "source": []
  }
 ],
 "metadata": {
  "kernelspec": {
   "display_name": "nas_cp",
   "language": "python",
   "name": "python3"
  },
  "language_info": {
   "codemirror_mode": {
    "name": "ipython",
    "version": 3
   },
   "file_extension": ".py",
   "mimetype": "text/x-python",
   "name": "python",
   "nbconvert_exporter": "python",
   "pygments_lexer": "ipython3",
   "version": "3.10.18"
  }
 },
 "nbformat": 4,
 "nbformat_minor": 2
}
