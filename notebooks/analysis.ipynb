{
 "cells": [
  {
   "cell_type": "code",
   "execution_count": null,
   "metadata": {},
   "outputs": [],
   "source": [
    "from naslib.utils.io import read_json\n",
    "from pathlib import Path \n",
    "import pandas as pd\n",
    "import seaborn as sns\n",
    "import matplotlib.pyplot as plt\n",
    "from matplotlib import rcParams\n",
    "from matplotlib.axes import Axes"
   ]
  },
  {
   "cell_type": "code",
   "execution_count": null,
   "metadata": {},
   "outputs": [],
   "source": [
    "sns.set_style(\"white\")\n",
    "rcParams['axes.titlepad'] = 15\n",
    "rcParams['font.size'] = 12"
   ]
  },
  {
   "cell_type": "code",
   "execution_count": null,
   "metadata": {},
   "outputs": [],
   "source": [
    "QUERY_VAL_ACC = \"valid_acc\"\n",
    "QUERY_CAL_ERR = \"calibration_score\" \n",
    "LOG_FILENAME = \"errors.json\"\n",
    "\n",
    "def collect_info_all_seeds(folder: Path, filename: str = LOG_FILENAME, query_key: str = QUERY_KEY):\n",
    "    matches = list(folder.rglob(pattern=f\"./seed=*\"))\n",
    "\n",
    "    scores={}\n",
    "    for p in matches:\n",
    "        scores[p.name] = read_json(p / filename)[query_key]\n",
    "    df = pd.DataFrame(scores)\n",
    "    df.index += 1   # python indexing starts from 0\n",
    "    df.index.name = \"epochs\"\n",
    "    return df.sort_index(axis=1).reset_index()"
   ]
  },
  {
   "cell_type": "code",
   "execution_count": null,
   "metadata": {},
   "outputs": [],
   "source": [
    "def plot_single_experiment(path: Path, ax: Axes, label: str | None, query_key: str, ylabel: str):\n",
    "    df_wide = collect_info_all_seeds(folder=path, query_key=query_key)\n",
    "    df_long = pd.melt(df_wide, id_vars='epochs')\n",
    "    \n",
    "    legend = None if label is None else \"auto\"\n",
    "    sns.lineplot(x=\"epochs\", data=df_long, y=\"value\", err_style=\"band\", errorbar=\"sd\", label=label, ax=ax, legend=legend)\n",
    "    ax.set_xlabel(\"epochs\")\n",
    "    ax.set_ylabel(ylabel=ylabel)\n",
    "    return ax"
   ]
  },
  {
   "cell_type": "code",
   "execution_count": null,
   "metadata": {},
   "outputs": [],
   "source": [
    "datasets = [\"cifar10\" , \"cifar100\", \"ImageNet16-120\"]\n",
    "home = Path.home() / \"Desktop/Experiments\"\n",
    "\n",
    "def get_label_and_path(dataset): \n",
    "    gaussian = home/\"acq_search=mutation/nasbench201/\" / dataset / \"/acq=its/num_to_mutate=2/num_init=10/bananas__ensemble_mlp__gaussian__num_quantiles=10\"\n",
    "    scp_10 = home/\"acq_search=mutation/nasbench201/\" / dataset  / \"/acq=its/num_to_mutate=2/num_init=10/bananas__ensemble_mlp__CP_split__train_cal_split=03__num_quantiles=10\"\n",
    "    scp_30 = home/\"acq_search=mutation/nasbench201/\" / dataset /  \"/acq=its/num_to_mutate=2/num_init=30/bananas__ensemble_mlp__CP_split__train_cal_split=03__num_quantiles=10\"\n",
    "    label_and_path = {\n",
    "        \"uncalibrated\": gaussian,\n",
    "        \"scp (init_size=10)\": scp_10,\n",
    "        \"scp (init_size=30)\": scp_30\n",
    "    }\n",
    "    return label_and_path"
   ]
  },
  {
   "cell_type": "markdown",
   "metadata": {},
   "source": [
    "### Visualise validation accuracy and RMSCE per epoch"
   ]
  },
  {
   "cell_type": "code",
   "execution_count": null,
   "metadata": {},
   "outputs": [],
   "source": [
    "fig, axes = plt.subplots(ncols=3, nrows=2, figsize=(15, 7), gridspec_kw={\"height_ratios\" : [1.5, 2.5]})\n",
    "\n",
    "for i, dataset in enumerate(datasets):\n",
    "    label_and_path = get_label_and_path(dataset=dataset)\n",
    "    for label, path in label_and_path.items():\n",
    "        plot_single_experiment(path=path, ax=axes[0, i], label=None, query_key=QUERY_CAL_ERR, ylabel=\"rmsce\")\n",
    "        plot_single_experiment(path=path, ax=axes[1, i], label=label, query_key=QUERY_VAL_ACC, ylabel=\"validation accuracy\")\n",
    "        axes[1, i].legend(loc=\"lower right\")\n",
    "plt.tight_layout()"
   ]
  },
  {
   "cell_type": "code",
   "execution_count": null,
   "metadata": {},
   "outputs": [],
   "source": [
    "plt.show()"
   ]
  },
  {
   "cell_type": "code",
   "execution_count": null,
   "metadata": {},
   "outputs": [],
   "source": [
    "path = Path(\"/Users/chengchen/Desktop/Experiments/acq_search=mutation/nasbench201/cifar10/acq=its/num_to_mutate=2/num_init=10/bananas__ensemble_mlp__CP_bootstrap__num_ensemble=5__num_quantiles=10_absresidual\")\n",
    "\n",
    "scores_1 = collect_info_all_seeds(path).iloc[-1, 1:]\n",
    "print(scores_1.mean())\n",
    "print(scores_1.std())"
   ]
  },
  {
   "cell_type": "code",
   "execution_count": null,
   "metadata": {},
   "outputs": [],
   "source": [
    "scores_1.sort_values()"
   ]
  },
  {
   "cell_type": "code",
   "execution_count": null,
   "metadata": {},
   "outputs": [],
   "source": []
  }
 ],
 "metadata": {
  "kernelspec": {
   "display_name": "nas_cp",
   "language": "python",
   "name": "python3"
  },
  "language_info": {
   "codemirror_mode": {
    "name": "ipython",
    "version": 3
   },
   "file_extension": ".py",
   "mimetype": "text/x-python",
   "name": "python",
   "nbconvert_exporter": "python",
   "pygments_lexer": "ipython3",
   "version": "3.10.18"
  }
 },
 "nbformat": 4,
 "nbformat_minor": 2
}
