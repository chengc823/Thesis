{
 "cells": [
  {
   "cell_type": "code",
   "execution_count": null,
   "metadata": {},
   "outputs": [],
   "source": [
    "from naslib.utils.io import read_json\n",
    "from pathlib import Path \n",
    "import pandas as pd\n",
    "import seaborn as sns\n",
    "import matplotlib.pyplot as plt\n",
    "from matplotlib import rcParams\n",
    "from matplotlib.axes import Axes"
   ]
  },
  {
   "cell_type": "code",
   "execution_count": null,
   "metadata": {},
   "outputs": [],
   "source": [
    "sns.set_style(\"white\")\n",
    "rcParams['axes.titlepad'] = 15\n",
    "rcParams['font.size'] = 10"
   ]
  },
  {
   "cell_type": "code",
   "execution_count": null,
   "metadata": {},
   "outputs": [],
   "source": [
    "QUERY_VAL_ACC = \"valid_acc\"\n",
    "QUERY_CAL_ERR = \"calibration_score\" \n",
    "LOG_FILENAME = \"errors.json\"\n",
    "\n",
    "def collect_json_info_all_seeds(folder: Path, filename: str = LOG_FILENAME, query_key: str = QUERY_CAL_ERR):\n",
    "    matches = list(folder.rglob(pattern=f\"./seed=*\"))\n",
    "\n",
    "    scores={}\n",
    "    for p in matches:\n",
    "        scores[p.name] = read_json(p / filename)[query_key]\n",
    "    df = pd.DataFrame(scores)\n",
    "    df.index += 1   # python indexing starts from 0\n",
    "    df.index.name = \"epochs\"\n",
    "    return df.sort_index(axis=1)"
   ]
  },
  {
   "cell_type": "code",
   "execution_count": null,
   "metadata": {},
   "outputs": [],
   "source": [
    "def plot_json_single_experiment(path: Path, ax: Axes, label: str | None, query_key: str, ylabel: str, start_epoch=0, dahses = None):\n",
    "    df_wide = collect_json_info_all_seeds(folder=path, query_key=query_key)     \n",
    "    mean = df_wide.iloc[-1, :].mean()\n",
    "    std = df_wide.iloc[-1, :].std()\n",
    "\n",
    "    df_wide = df_wide.reset_index()    \n",
    "    df_wide = df_wide[df_wide[\"epochs\"] >= start_epoch]\n",
    "    df_long = pd.melt(df_wide, id_vars='epochs')\n",
    "    legend = None if label is None else \"auto\"\n",
    "\n",
    "    label = f\"{label}:  mean={round(mean, 3)}, std={round(std, 4)}\"\n",
    "    sns.lineplot(x=\"epochs\", data=df_long, y=\"value\", err_style=\"band\", errorbar=\"sd\", label=label, ax=ax, legend=legend, alpha=0.8, dashes=dahses)\n",
    "    ax.set_xlabel(\"epochs\")\n",
    "    ax.set_ylabel(ylabel=ylabel)\n",
    "    ax.tick_params(labelbottom=True)\n",
    "    return ax"
   ]
  },
  {
   "cell_type": "code",
   "execution_count": null,
   "metadata": {},
   "outputs": [],
   "source": [
    "datasets = [\"CIFAR10\" , \"CIFAR100\", \"ImageNet16-120\"]\n",
    "home = Path.home() / \"Desktop/Experiments\"\n",
    "\n",
    "def get_label_and_path(dataset): \n",
    "    if \"CIFAR\" in dataset:\n",
    "        dataset = dataset.lower()\n",
    "    exp_0 = home/\"acq_search=mutation/nasbench201\" / dataset / \"acq=its/num_to_mutate=2/num_init=10/bananas__ensemble_mlp__gaussian__num_quantiles=10\"\n",
    "    exp_1 = home/\"acq_search=mutation/nasbench201\" / dataset  / \"acq=its/num_to_mutate=2/num_init=10/bananas__ensemble_mlp__CP_split__train_cal_split=05__num_quantiles=10\"\n",
    "    exp_2 = home/\"acq_search=mutation/nasbench201\" / dataset  / \"acq=its/num_to_mutate=2/num_init=10/bananas__ensemble_mlp__CP_split__train_cal_split=05__num_quantiles=20\"\n",
    "  #  exp_2 = home/\"acq_search=mutation/nasbench201\" / dataset  / \"acq=its/num_to_mutate=2/num_init=10/bananas__quantile__CP_cv__train_cal_split=3__num_quantiles=10\"\n",
    "  #  exp_3 = home/\"acq_search=mutation/nasbench201\" / dataset  / \"acq=ei/num_to_mutate=2/num_init=10/bananas__quantile__CP_cv__train_cal_split=3__num_quantiles=10\"\n",
    "  #  exp_3 = home/\"acq_search=mutation/nasbench201\" / dataset  / \"acq=ei/num_to_mutate=2/num_init=10/bananas__quantile__CP_cv__train_cal_split=3__num_quantiles=20\"\n",
    "\n",
    "  #  exp_1 = home/\"acq_search=mutation/nasbench201\" / dataset  / \"acq=its/num_to_mutate=2/num_init=10/bananas__ensemble_mlp__CP_cv__train_cal_split=3__num_quantiles=10\"\n",
    "  #  exp_2 = home/\"acq_search=mutation/nasbench201\" / dataset  / \"acq=ei/num_to_mutate=2/num_init=10/bananas__ensemble_mlp__CP_cv__train_cal_split=3__num_quantiles=10\"\n",
    "  #  exp_3 = home/\"acq_search=dynamic/nasbench201\" / dataset  / \"acq=its/num_to_mutate=None/num_init=10/bananas__ensemble_mlp__CP_cv__train_cal_split=3__num_quantiles=10\"\n",
    " \n",
    "\n",
    "    label_and_path = {\n",
    "        \"bananas\": exp_0,\n",
    "      #  \"scp (quantile, acq=ITS)\": exp_1,\n",
    "      #  \"scp quantile (acq=EI)\": exp_2\n",
    "        \"scp (|q|=10)\": exp_1,\n",
    "        \"scp (|q|=20)\": exp_2,\n",
    "      #  \"bootstrap cp (abs. residual)\": exp_21,\n",
    "      #  \"bootstrap cp (scaled abs. residual)\": exp_22\n",
    "      #   \"cross-val cp (quantile, acq=ITS)\": exp_2,\n",
    "      #   \"cross-val cp (quantile, acq=EI)\": exp_3,\n",
    "     #    \"cross-val cp (dynamic, acq=ITS)\": exp_3,\n",
    "    #    \"uncalibrated (random sampling)\": exp_3,\n",
    "    #    \"scp (acq=EI)\": exp_3,\n",
    "    #    \"scp (acq=PI)\": exp_4,\n",
    "    }\n",
    "    return label_and_path"
   ]
  },
  {
   "cell_type": "markdown",
   "metadata": {},
   "source": [
    "### Visualise validation accuracy and RMSCE per epoch"
   ]
  },
  {
   "cell_type": "code",
   "execution_count": null,
   "metadata": {},
   "outputs": [],
   "source": [
    "color_set = [\n",
    "    \"#377EB8\",  # blue\n",
    "    \"#4DAF4A\",  # green\n",
    "    \"#FF7F00\",  # orange\n",
    "    \"#984EA3\",  # purple\n",
    "    \"#E41A1C\",  # red\n",
    "  #  \"#FFD92F\",  # yellow\n",
    " #   \"#00CED1\",  # cyan/turquois\n",
    "]\n",
    "\n",
    "# Set as default cycle\n",
    "plt.rcParams['axes.prop_cycle'] = plt.cycler(color=color_set)"
   ]
  },
  {
   "cell_type": "code",
   "execution_count": 211,
   "metadata": {},
   "outputs": [],
   "source": [
    "# fig, axes = plt.subplots(ncols=1, nrows=1, figsize=(8, 5))\n",
    "# start_epoch = 10\n",
    "# label_and_path = get_label_and_path(dataset=\"cifar10\")\n",
    "# for label, path in label_and_path.items():\n",
    "#     plot_json_single_experiment(path=path, ax=axes, label=label, query_key=QUERY_VAL_ACC, ylabel=\"validation accuracy\", start_epoch=start_epoch)   \n",
    "#     axes.legend(loc=\"lower right\")\n",
    "\n",
    "#     axes.set_title(\"cifar10\", y=0, pad=-55, verticalalignment=\"top\", fontsize=12)"
   ]
  },
  {
   "cell_type": "code",
   "execution_count": null,
   "metadata": {},
   "outputs": [],
   "source": [
    "fig, axes = plt.subplots(ncols=3, nrows=2, figsize=(15, 7),sharex=True, gridspec_kw={\"height_ratios\" : [1.5, 2.5]})\n",
    "start_epoch = 10\n",
    "\n",
    "\n",
    "for i, dataset in enumerate(datasets):\n",
    "    label_and_path = get_label_and_path(dataset=dataset)\n",
    "    for label, path in label_and_path.items():\n",
    "        plot_json_single_experiment(path=path, ax=axes[0, i], label=None, query_key=QUERY_CAL_ERR, ylabel=\"rmsce\", start_epoch=start_epoch)\n",
    "        plot_json_single_experiment(path=path, ax=axes[1, i], label=label, query_key=QUERY_VAL_ACC, ylabel=\"validation accuracy\", start_epoch=start_epoch)\n",
    "        axes[1, i].legend(loc=\"lower right\")\n",
    "        axes[1, i].set_title(dataset, y=0, pad=-55, verticalalignment=\"top\", fontsize=12)\n",
    "plt.tight_layout()"
   ]
  },
  {
   "cell_type": "markdown",
   "metadata": {},
   "source": [
    "###  Predictions"
   ]
  },
  {
   "cell_type": "markdown",
   "metadata": {},
   "source": [
    "#### Predict Errors for Ensemble Predictor"
   ]
  },
  {
   "cell_type": "code",
   "execution_count": null,
   "metadata": {},
   "outputs": [],
   "source": [
    "import pickle\n",
    "import numpy as np\n",
    "from naslib.optimizers.bananas.calibration_utils import ConditionalEstimation\n",
    "\n",
    "def get_ensmeble_mlp_pred_abs_errors(path):\n",
    "    with open(path, \"rb\") as f:\n",
    "        _, obs_and_dist = pickle.load(f)\n",
    "        obs_and_dist_unpacked = list(zip(*obs_and_dist))\n",
    "        y_true = list(obs_and_dist_unpacked[0])\n",
    "        y_pred = [np.mean(item.point_prediction) if isinstance(item, ConditionalEstimation) else np.nan for item in obs_and_dist_unpacked[1]]\n",
    "        return  abs(np.array(y_pred) - np.array(y_true))\n",
    "    \n",
    "def collect_preds_all_seeds(folder: Path):\n",
    "    matches = list(folder.rglob(pattern=f\"./seed=*\"))\n",
    "    errors ={}\n",
    "    for p in matches:\n",
    "        errors[p.name] = get_ensmeble_mlp_pred_abs_errors(path=p / \"search_log.pt\")\n",
    "    df = pd.DataFrame(errors)\n",
    "    df.index += 1   # python indexing starts from 0\n",
    "    df.index.name = \"epochs\"\n",
    "    return df.sort_index(axis=1)\n",
    "\n",
    "\n",
    "def plot_preds_single_experiment(path: Path, ax: Axes, label: str | None, ylabel: str, start_epoch=0, smooth_window=1):\n",
    "    df_wide = collect_preds_all_seeds(folder=path)\n",
    "    mean = np.nanmean(df_wide.values)\n",
    "    std = np.nanstd(df_wide.values)\n",
    "\n",
    "    df_wide = df_wide.reset_index()    \n",
    "    df_wide = df_wide[df_wide[\"epochs\"] >= start_epoch].rolling(10).mean()\n",
    "    df_long = pd.melt(df_wide, id_vars='epochs')\n",
    "    legend = None if label is None else \"auto\"\n",
    "\n",
    "    label = f\"{label}: mean={round(mean, 3)}, std={round(std, 4)}\"\n",
    "    sns.lineplot(x=\"epochs\", data=df_long, y=\"value\", err_style=\"band\", errorbar=\"sd\", label=label, ax=ax, legend=legend, alpha=0.8)\n",
    "    ax.set_xlabel(\"epochs\")\n",
    "    ax.set_ylabel(ylabel=ylabel)\n",
    "    ax.tick_params(labelbottom=True)\n",
    "    return ax"
   ]
  },
  {
   "cell_type": "code",
   "execution_count": null,
   "metadata": {},
   "outputs": [],
   "source": [
    "fig, axes = plt.subplots(ncols=3, nrows=1, figsize=(15, 4))\n",
    "start_epoch = 0\n",
    "\n",
    "for i, dataset in enumerate(datasets):\n",
    "    label_and_path = get_label_and_path(dataset=dataset)\n",
    "    for label, path in label_and_path.items():\n",
    "        plot_preds_single_experiment(path=path, ax=axes[i], label=label, ylabel=\"absolute prediction error\",  start_epoch=start_epoch)\n",
    "        axes[i].set_title(dataset, y=0, pad=-45, verticalalignment=\"top\", fontsize=12)\n",
    "plt.tight_layout()"
   ]
  },
  {
   "cell_type": "code",
   "execution_count": null,
   "metadata": {},
   "outputs": [],
   "source": [
    "path = Path(\"/Users/chengchen/Desktop/Experiments/acq_search=mutation/nasbench201/cifar10/acq=its/num_to_mutate=2/num_init=10/bananas__ensemble_mlp__CP_cv__train_cal_split=3__num_quantiles=10\")"
   ]
  },
  {
   "cell_type": "code",
   "execution_count": null,
   "metadata": {},
   "outputs": [],
   "source": []
  }
 ],
 "metadata": {
  "kernelspec": {
   "display_name": "nas_cp",
   "language": "python",
   "name": "python3"
  },
  "language_info": {
   "codemirror_mode": {
    "name": "ipython",
    "version": 3
   },
   "file_extension": ".py",
   "mimetype": "text/x-python",
   "name": "python",
   "nbconvert_exporter": "python",
   "pygments_lexer": "ipython3",
   "version": "3.10.18"
  }
 },
 "nbformat": 4,
 "nbformat_minor": 2
}
