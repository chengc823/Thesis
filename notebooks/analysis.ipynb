{
 "cells": [
  {
   "cell_type": "code",
   "execution_count": 10,
   "metadata": {},
   "outputs": [],
   "source": [
    "from naslib.utils.io import read_json\n",
    "from pathlib import Path \n",
    "import pandas as pd\n",
    "import seaborn as sns\n",
    "import matplotlib.pyplot as plt\n",
    "from matplotlib import rcParams\n",
    "from matplotlib.axes import Axes"
   ]
  },
  {
   "cell_type": "code",
   "execution_count": 11,
   "metadata": {},
   "outputs": [],
   "source": [
    "sns.set_style(\"darkgrid\")\n",
    "rcParams['axes.titlepad'] = 15\n",
    "rcParams['font.size'] = 10.5"
   ]
  },
  {
   "cell_type": "code",
   "execution_count": 12,
   "metadata": {},
   "outputs": [],
   "source": [
    "QUERY_KEY = \"valid_acc\"\n",
    "LOG_FILENAME = \"errors.json\"\n",
    "\n",
    "def collect_info_all_seeds(folder: Path, filename: str = LOG_FILENAME, query_key: str = QUERY_KEY):\n",
    "    matches = list(folder.rglob(pattern=f\"./seed=*\"))\n",
    "\n",
    "    scores={}\n",
    "    for p in matches:\n",
    "        scores[p.name] = read_json(p / filename)[query_key]\n",
    "    df = pd.DataFrame(scores)\n",
    "    df.index += 1   # python indexing starts from 0\n",
    "    df.index.name = \"epochs\"\n",
    "    return df.sort_index(axis=1).reset_index()"
   ]
  },
  {
   "cell_type": "code",
   "execution_count": 28,
   "metadata": {},
   "outputs": [],
   "source": [
    "def plot_single_experiment(path: Path, ax: Axes, label: str, start_epoch: int = 0):\n",
    "    \n",
    "    df_wide = collect_info_all_seeds(folder=path)\n",
    "    df_wide = df_wide[df_wide[\"epochs\" >= start_epoch]]\n",
    "    df_long = pd.melt(df_wide, id_vars='epochs')\n",
    "    sns.lineplot(x=\"epochs\", data=df_long, y=\"value\", err_style=\"band\", errorbar=\"sd\", label=label, ax=ax)\n",
    "    return ax"
   ]
  },
  {
   "cell_type": "code",
   "execution_count": 29,
   "metadata": {},
   "outputs": [],
   "source": [
    "# Parameters\n",
    "dataset =  \"cifar10\" # \"cifar10\" , \"cifar100\", \"ImageNet16-120\"\n",
    "acq_func = \"its\"\n",
    "num_init = 20\n",
    "num_quantiles= 10 #20"
   ]
  },
  {
   "cell_type": "code",
   "execution_count": 30,
   "metadata": {},
   "outputs": [],
   "source": [
    "home = Path.home() / \"Desktop/Experiments\"\n",
    "\n",
    "gaussian = home / \"bananas__ensemble_mlp__gaussian\" / \"nasbench201\" / dataset / f\"acq={acq_func}\" / f\"num_init={num_init}\"\n",
    "scp_03 = home / \"bananas__ensemble_mlp__CP_split\" / \"nasbench201\" / dataset / f\"acq={acq_func}__train_cal_split=03__num_quantiles={num_quantiles}\" / f\"num_init={num_init}\"\n",
    "scp_05 = home / \"bananas__ensemble_mlp__CP_split\" / \"nasbench201\" / dataset / f\"acq={acq_func}__train_cal_split=05__num_quantiles={num_quantiles}\" / f\"num_init={num_init}\"\n",
    "\n",
    "label_and_path = {\n",
    "    \"Uncalibrated\": gaussian,\n",
    "    \"SCP calibrated (70/30)\": scp_03,\n",
    "    \"SCP calibrated (50/50)\": scp_05\n",
    "}"
   ]
  },
  {
   "cell_type": "code",
   "execution_count": null,
   "metadata": {},
   "outputs": [],
   "source": [
    "fig, ax = plt.subplots(1,1)\n",
    "plt.title(\"Comparative Performance\")\n",
    "\n",
    "for label, path in label_and_path.items():\n",
    "    ax = plot_single_experiment(path=path, ax=ax, label=label)\n",
    "\n",
    "plt.xlabel(\"epochs\")\n",
    "plt.ylabel(\"validation accuracy\")\n",
    "plt.legend(loc=\"lower right\")\n",
    "plt.tight_layout()"
   ]
  },
  {
   "cell_type": "code",
   "execution_count": 16,
   "metadata": {},
   "outputs": [
    {
     "data": {
      "text/plain": [
       "0.30239189331537386"
      ]
     },
     "execution_count": 16,
     "metadata": {},
     "output_type": "execute_result"
    }
   ],
   "source": [
    "path = Path(\"/Users/chengchen/Desktop/Experiments/acq_search=mutation/nasbench201/cifar10/acq=its/num_to_mutate=2/num_init=10/bananas__ensemble_mlp__CP_split__train_cal_split=03__num_quantiles=10\")\n",
    "\n",
    "collect_info_all_seeds(path).iloc[-1, 1:].std()"
   ]
  },
  {
   "cell_type": "code",
   "execution_count": null,
   "metadata": {},
   "outputs": [],
   "source": []
  }
 ],
 "metadata": {
  "kernelspec": {
   "display_name": "nas_cp",
   "language": "python",
   "name": "python3"
  },
  "language_info": {
   "codemirror_mode": {
    "name": "ipython",
    "version": 3
   },
   "file_extension": ".py",
   "mimetype": "text/x-python",
   "name": "python",
   "nbconvert_exporter": "python",
   "pygments_lexer": "ipython3",
   "version": "3.10.16"
  }
 },
 "nbformat": 4,
 "nbformat_minor": 2
}
