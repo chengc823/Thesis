{
 "cells": [
  {
   "cell_type": "code",
   "execution_count": 1,
   "metadata": {},
   "outputs": [],
   "source": [
    "import numpy as np\n",
    "import math\n",
    "\n",
    "pk = np.linspace(0, 1, 21)\n",
    "pk\n",
    "sample = np.random.normal(0, 1, 1000)"
   ]
  },
  {
   "cell_type": "code",
   "execution_count": 6,
   "metadata": {},
   "outputs": [],
   "source": [
    "qk = []\n",
    "for p in pk:\n",
    "    n_cal = len(sample)\n",
    "    quantile = np.quantile(sample, p) \n",
    "    qk.append(quantile)"
   ]
  },
  {
   "cell_type": "code",
   "execution_count": 7,
   "metadata": {},
   "outputs": [
    {
     "data": {
      "text/plain": [
       "array([0.  , 0.05, 0.1 , 0.15, 0.2 , 0.25, 0.3 , 0.35, 0.4 , 0.45, 0.5 ,\n",
       "       0.55, 0.6 , 0.65, 0.7 , 0.75, 0.8 , 0.85, 0.9 , 0.95, 1.  ])"
      ]
     },
     "execution_count": 7,
     "metadata": {},
     "output_type": "execute_result"
    }
   ],
   "source": [
    "pk"
   ]
  },
  {
   "cell_type": "code",
   "execution_count": 8,
   "metadata": {},
   "outputs": [
    {
     "data": {
      "text/plain": [
       "[-2.8523231877040853,\n",
       " -1.5519606435837998,\n",
       " -1.247509418280673,\n",
       " -1.024120510012469,\n",
       " -0.8542779476925743,\n",
       " -0.7003892779991409,\n",
       " -0.5095729603692519,\n",
       " -0.36642139343263186,\n",
       " -0.2404032705782276,\n",
       " -0.1074975472535216,\n",
       " 0.01872928102705225,\n",
       " 0.1627870698909281,\n",
       " 0.30727690546149355,\n",
       " 0.4182671654641155,\n",
       " 0.5540319881409299,\n",
       " 0.6863722358038725,\n",
       " 0.8442442265507587,\n",
       " 1.0733032887762557,\n",
       " 1.3422020370389995,\n",
       " 1.712185365519452,\n",
       " 3.1055792499101207]"
      ]
     },
     "execution_count": 8,
     "metadata": {},
     "output_type": "execute_result"
    }
   ],
   "source": [
    "qk"
   ]
  },
  {
   "cell_type": "code",
   "execution_count": null,
   "metadata": {},
   "outputs": [],
   "source": [
    "intervals = []\n",
    "density = []\n",
    "\n",
    "for i in range(1, len(qk)):\n",
    "    interval = (qk[i-1], qk[i])\n",
    "    intervals.append(interval)\n",
    "    weight = pk[i] - pk[i-1]\n",
    "    prob =  weight / (qk[i] - qk[i - 1])\n",
    "    density.append(prob)  \n",
    "\n",
    "width = 1 / len(intervals)  \n",
    "width"
   ]
  },
  {
   "cell_type": "code",
   "execution_count": null,
   "metadata": {},
   "outputs": [],
   "source": [
    "intervals"
   ]
  },
  {
   "cell_type": "code",
   "execution_count": null,
   "metadata": {},
   "outputs": [],
   "source": [
    "# mean\n",
    "cum_ = 0.0\n",
    "for interval, prob in zip(intervals, density):\n",
    "    cum_ = (interval[1] - interval[0]) / 2 * prob\n",
    "cum_"
   ]
  },
  {
   "cell_type": "code",
   "execution_count": null,
   "metadata": {},
   "outputs": [],
   "source": [
    "# cdf\n",
    "def cdf(x):\n",
    "    if x < min(qk):\n",
    "        return 0\n",
    "    elif x > max(qk):\n",
    "        return 1\n",
    "\n",
    "    for i, interval in enumerate(intervals):\n",
    "        left, right = interval                   \n",
    "        if x < right and x >= left:\n",
    "            # cumulated weights of previous intervals\n",
    "            cum_weight = pk[i]\n",
    "            # plus the cumulated weights at the current interval\n",
    "            cum_weight += (x - left) / (right - left)  *0.05\n",
    "            return cum_weight\n"
   ]
  },
  {
   "cell_type": "code",
   "execution_count": null,
   "metadata": {},
   "outputs": [],
   "source": [
    "cdf(-3.)"
   ]
  },
  {
   "cell_type": "code",
   "execution_count": null,
   "metadata": {},
   "outputs": [],
   "source": [
    "# rvs\n",
    "def rvs(size=1):\n",
    "    def _sample_single_sample():\n",
    "        # first sample an interval\n",
    "        interval_idx = np.random.randint(0, len(intervals), 1)[0]\n",
    "        interval = intervals[interval_idx]\n",
    "        # inside this interval, sample uniformly\n",
    "        return np.random.uniform(interval[0], interval[1], size=1)[0]\n",
    "        \n",
    "    samples = []\n",
    "    for i in range(size):\n",
    "        samples.append(_sample_single_sample())\n",
    "\n",
    "    assert len(samples) == size\n",
    "    return np.array(samples)"
   ]
  },
  {
   "cell_type": "code",
   "execution_count": null,
   "metadata": {},
   "outputs": [],
   "source": [
    "def ppf(q) -> float:\n",
    "    if q > 1 or q < 0:\n",
    "        return np.nan\n",
    "    \n",
    "    for i, percentile in enumerate(pk):\n",
    "        if q <= percentile:\n",
    "            interval = intervals[i-1]\n",
    "            left, right = interval\n",
    "            break\n",
    "    \n",
    "    ratio = (q - percentile) / width \n",
    "    return ratio * (right - left) + left"
   ]
  },
  {
   "cell_type": "code",
   "execution_count": null,
   "metadata": {},
   "outputs": [],
   "source": [
    "middles = []\n",
    "\n",
    "for interval in intervals:\n",
    "    left, right = interval\n",
    "    middles.append((left + right) / 2)"
   ]
  },
  {
   "cell_type": "code",
   "execution_count": null,
   "metadata": {},
   "outputs": [],
   "source": [
    "import matplotlib.pyplot as plt\n",
    "plt.plot(middles, density)"
   ]
  }
 ],
 "metadata": {
  "kernelspec": {
   "display_name": "nas_cp",
   "language": "python",
   "name": "python3"
  },
  "language_info": {
   "codemirror_mode": {
    "name": "ipython",
    "version": 3
   },
   "file_extension": ".py",
   "mimetype": "text/x-python",
   "name": "python",
   "nbconvert_exporter": "python",
   "pygments_lexer": "ipython3",
   "version": "3.10.16"
  }
 },
 "nbformat": 4,
 "nbformat_minor": 2
}
