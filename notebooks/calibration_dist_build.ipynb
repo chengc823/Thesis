{
 "cells": [
  {
   "cell_type": "markdown",
   "metadata": {},
   "source": [
    "This notebooks checks the approximation quality of a distribution derived from quantile values."
   ]
  },
  {
   "cell_type": "code",
   "execution_count": 1,
   "metadata": {},
   "outputs": [],
   "source": [
    "import numpy as np\n",
    "import pandas as pd\n",
    "import math\n",
    "import scipy.stats as stats\n",
    "from matplotlib import rcParams\n",
    "import matplotlib.pyplot as plt\n",
    "import seaborn as sns\n",
    "from naslib.optimizers.bananas.distribution import get_quantile_levels\n",
    "from naslib.optimizers.bananas.distribution import Distribution, PointwiseInterpolatedDist"
   ]
  },
  {
   "cell_type": "code",
   "execution_count": 2,
   "metadata": {},
   "outputs": [],
   "source": [
    "sns.set_style(\"darkgrid\")\n",
    "rcParams['axes.titlepad'] = 20 \n",
    "rcParams['font.size'] = 9"
   ]
  },
  {
   "cell_type": "markdown",
   "metadata": {},
   "source": [
    "### Define functions"
   ]
  },
  {
   "cell_type": "code",
   "execution_count": 3,
   "metadata": {},
   "outputs": [],
   "source": [
    "def fit_distribution(samples, num_quantiles) -> PointwiseInterpolatedDist:\n",
    "    sample_size = len(samples)\n",
    "\n",
    "    pk = get_quantile_levels(num_quantiles=num_quantiles)\n",
    "    qk = []\n",
    "    for p in pk:\n",
    "        adj_p = min(math.ceil((sample_size + 1) * p) / sample_size, 1.0)\n",
    "        qk.append(np.quantile(samples, adj_p))\n",
    "    \n",
    "    return PointwiseInterpolatedDist(values=(pk, np.array(qk)))"
   ]
  },
  {
   "cell_type": "code",
   "execution_count": 4,
   "metadata": {},
   "outputs": [],
   "source": [
    "def kl_divergence(distribution: Distribution, other: Distribution, x) -> float:\n",
    "    \"\"\"Kullback-Leibler-Divergence.\"\"\"\n",
    "    y = [distribution.pdf(x_i) * np.log(distribution.pdf(x_i) / other.pdf(x_i)) for x_i in x]\n",
    "    return np.trapz(y, x)"
   ]
  },
  {
   "cell_type": "markdown",
   "metadata": {},
   "source": [
    "### Statistics"
   ]
  },
  {
   "cell_type": "code",
   "execution_count": 5,
   "metadata": {},
   "outputs": [],
   "source": [
    "def _single_dist_stats(self, other, x):\n",
    "    return pd.DataFrame(\n",
    "        {\"mean\": self.mean(), \"std\": self.std(), \"KL divergence\":  kl_divergence(self, other=other, x=x)}, index=[0]\n",
    "    )"
   ]
  },
  {
   "cell_type": "code",
   "execution_count": 6,
   "metadata": {},
   "outputs": [],
   "source": [
    "num_quantiles = 20\n",
    "sample_sizes = np.arange(50, 501, 50)\n",
    "\n",
    "# True distribution\n",
    "true_dist = stats.skewnorm(loc=0, scale=1, a=-10)\n",
    "mean = true_dist.mean()\n",
    "std = true_dist.std()\n",
    "\n",
    "\n",
    "statistics = {}\n",
    "# Fit distributions\n",
    "x = np.linspace(mean - 3 * std, mean + 3 * std, 1000)\n",
    "for n_sample in sample_sizes:\n",
    "    group_name = f\"sample size={n_sample}\"\n",
    "    samples = true_dist.rvs(size=n_sample, random_state=5)\n",
    "\n",
    "    # normal distribuion\n",
    "    loc, scale = stats.norm.fit(samples)\n",
    "    norm_dist = stats.norm(loc=loc, scale=scale)\n",
    "    statistics[(group_name, \"Est. Gaussian\")] = _single_dist_stats(self=norm_dist, other=true_dist, x=x)\n",
    "    # point-wise distribution\n",
    "    pointwise_dist = fit_distribution(samples=samples, num_quantiles=20)\n",
    "    statistics[(group_name, \"Est. Quantile\")] = _single_dist_stats(self=pointwise_dist, other=true_dist, x=x)\n",
    "\n",
    "statistics[(\"\", \"Actual\")] = _single_dist_stats(self=true_dist, other=true_dist, x=x)"
   ]
  },
  {
   "cell_type": "code",
   "execution_count": null,
   "metadata": {},
   "outputs": [],
   "source": [
    "df = pd.concat(statistics, axis=0).droplevel(level=2)\n",
    "df"
   ]
  },
  {
   "cell_type": "markdown",
   "metadata": {},
   "source": [
    "### Graphical Anylsis"
   ]
  },
  {
   "cell_type": "code",
   "execution_count": 8,
   "metadata": {},
   "outputs": [],
   "source": [
    "output_dir = \"./figs/distribution_quality\""
   ]
  },
  {
   "cell_type": "code",
   "execution_count": 9,
   "metadata": {},
   "outputs": [],
   "source": [
    "num_quantiles = 20\n",
    "sample_size = 500"
   ]
  },
  {
   "cell_type": "code",
   "execution_count": 10,
   "metadata": {},
   "outputs": [],
   "source": [
    "true_dist = stats.skewnorm(loc=0, scale=1, a=-10)\n",
    "true_dist.name = \"Actual\"\n",
    "\n",
    "samples = true_dist.rvs(size=sample_size)\n",
    "pointwise_dist = fit_distribution(samples=samples, num_quantiles=num_quantiles)\n",
    "pointwise_dist.name = \"Est. Quantile\"\n",
    "\n",
    "loc, scale = stats.norm.fit(samples)\n",
    "norm_dist = stats.norm(loc=loc, scale=scale)\n",
    "norm_dist.name = \"Est. Gaussian\""
   ]
  },
  {
   "cell_type": "markdown",
   "metadata": {},
   "source": [
    "#### Density Plot"
   ]
  },
  {
   "cell_type": "code",
   "execution_count": 11,
   "metadata": {},
   "outputs": [],
   "source": [
    "dist_name = true_dist.name\n",
    "mean = true_dist.mean()\n",
    "std = true_dist.std()"
   ]
  },
  {
   "cell_type": "code",
   "execution_count": null,
   "metadata": {},
   "outputs": [],
   "source": [
    "fig = plt.figure()\n",
    "\n",
    "# plot true distribution\n",
    "x = np.linspace(mean - 3 * std, mean + 3 * std, 1000)\n",
    "plt.plot(x, true_dist.pdf(x), label=true_dist.name, alpha=0.8, color=\"blue\")\n",
    "\n",
    "# plot estimated distribution\n",
    "densities = [pointwise_dist.pdf(x_i) for x_i in x]\n",
    "plt.plot(x, densities, label=pointwise_dist.name, alpha=0.8, color=\"red\")\n",
    "\n",
    "plt.plot(x, norm_dist.pdf(x), label=norm_dist.name, alpha=0.8, color=\"green\")\n",
    "\n",
    "plt.legend(loc=\"upper left\")\n",
    "plt.xlabel(\"x\")\n",
    "plt.ylabel(\"pdf(x)\")\n",
    "plt.tight_layout()"
   ]
  },
  {
   "cell_type": "code",
   "execution_count": 28,
   "metadata": {},
   "outputs": [],
   "source": [
    "# save\n",
    "# fig.savefig(output_dir + f\"/{title}_pdf_plot.pdf\")"
   ]
  },
  {
   "cell_type": "markdown",
   "metadata": {},
   "source": [
    "#### CDF Plot"
   ]
  },
  {
   "cell_type": "code",
   "execution_count": null,
   "metadata": {},
   "outputs": [],
   "source": [
    "fig = plt.figure()\n",
    "\n",
    "# plot true distribution\n",
    "x = np.linspace(mean - 4 * std, mean + 3 * std, 100)\n",
    "plt.plot(x, true_dist.cdf(x), label=true_dist.name, alpha=0.8, color=\"blue\")\n",
    "# plot estimated distribution \n",
    "cdfs = [pointwise_dist.cdf(x_i) for x_i in x]\n",
    "plt.plot(x, cdfs, label=pointwise_dist.name, alpha=0.8, color=\"red\")\n",
    "\n",
    "plt.plot(x, norm_dist.cdf(x), label=norm_dist.name, alpha=0.8, color=\"green\")\n",
    "\n",
    "plt.legend(loc=\"upper left\")\n",
    "plt.xlabel(\"x\")\n",
    "plt.ylabel(\"cdf(x)\")\n",
    "plt.tight_layout()"
   ]
  },
  {
   "cell_type": "code",
   "execution_count": 16,
   "metadata": {},
   "outputs": [],
   "source": [
    "# save\n",
    "# fig.savefig(output_dir + f\"/{title}_cdf_plot.pdf\")"
   ]
  },
  {
   "cell_type": "markdown",
   "metadata": {},
   "source": [
    "### Sampling Histogram Plot"
   ]
  },
  {
   "cell_type": "code",
   "execution_count": 21,
   "metadata": {},
   "outputs": [],
   "source": [
    "n_samples = 1000\n",
    "true_samples = true_dist.rvs(size=n_samples)\n",
    "bins = np.histogram_bin_edges(true_samples, bins=100)"
   ]
  },
  {
   "cell_type": "code",
   "execution_count": null,
   "metadata": {},
   "outputs": [],
   "source": [
    "fig = plt.figure()\n",
    "alpha = 0.8\n",
    "# plot true distribution\n",
    "plt.hist(true_samples, bins=bins, alpha=alpha, label=true_dist.name, color=\"blue\")\n",
    "\n",
    "# plot estimated distribution \n",
    "plt.hist(pointwise_dist.rvs(size=n_samples), bins=bins, alpha=alpha, label=pointwise_dist.name, color=\"red\")\n",
    "plt.hist(norm_dist.rvs(size=n_samples, random_state=111), bins=bins, alpha=0.6, label=norm_dist.name, color=\"green\")\n",
    "\n",
    "plt.legend(loc=\"upper left\") \n",
    "plt.xlabel(\"Value\")\n",
    "plt.ylabel(\"Frequency\")\n",
    "plt.tight_layout()"
   ]
  },
  {
   "cell_type": "code",
   "execution_count": 14,
   "metadata": {},
   "outputs": [],
   "source": [
    "# save\n",
    "# fig.savefig(output_dir + f\"/{title}_rvs_plot.pdf\")"
   ]
  },
  {
   "cell_type": "code",
   "execution_count": null,
   "metadata": {},
   "outputs": [],
   "source": []
  }
 ],
 "metadata": {
  "kernelspec": {
   "display_name": "nas_cp",
   "language": "python",
   "name": "python3"
  },
  "language_info": {
   "codemirror_mode": {
    "name": "ipython",
    "version": 3
   },
   "file_extension": ".py",
   "mimetype": "text/x-python",
   "name": "python",
   "nbconvert_exporter": "python",
   "pygments_lexer": "ipython3",
   "version": "3.10.16"
  }
 },
 "nbformat": 4,
 "nbformat_minor": 2
}
