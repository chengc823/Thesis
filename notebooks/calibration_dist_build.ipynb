{
 "cells": [
  {
   "cell_type": "markdown",
   "metadata": {},
   "source": [
    "This notebooks checks the approximation quality of a distribution derived from quantile values."
   ]
  },
  {
   "cell_type": "code",
   "execution_count": 1,
   "metadata": {},
   "outputs": [],
   "source": [
    "import numpy as np\n",
    "import math\n",
    "import scipy.stats as stats\n",
    "from matplotlib import rcParams\n",
    "import matplotlib.pyplot as plt\n",
    "import seaborn as sns\n",
    "from naslib.optimizers.bananas.distribution import PointwiseInterpolatedDist"
   ]
  },
  {
   "cell_type": "code",
   "execution_count": 2,
   "metadata": {},
   "outputs": [],
   "source": [
    "sns.set_style(\"darkgrid\")\n",
    "rcParams['axes.titlepad'] = 20 \n",
    "rcParams['font.size'] = 9"
   ]
  },
  {
   "cell_type": "code",
   "execution_count": 4,
   "metadata": {},
   "outputs": [],
   "source": [
    "def fit_distribution(samples, num_quantiles) -> PointwiseInterpolatedDist:\n",
    "    sample_size = len(samples)\n",
    "    # estimate standard deviation and quantiles\n",
    "    std = np.std(samples)\n",
    "\n",
    "    pk = np.linspace(0, 1, num_quantiles + 1)\n",
    "    qk = []\n",
    "    for p in pk:\n",
    "        adj_p = min(math.ceil((sample_size + 1) * p) / sample_size, 1.0)\n",
    "        qk.append(np.quantile(samples, adj_p))\n",
    "    \n",
    "    return PointwiseInterpolatedDist(values=(pk, qk), std=std)\n"
   ]
  },
  {
   "cell_type": "code",
   "execution_count": 5,
   "metadata": {},
   "outputs": [],
   "source": [
    "num_quantiles = 20\n",
    "sample_size = 100\n",
    "true_dist = stats.skewnorm(loc=0, scale=1, a=5)\n",
    "true_dist.name = \"Skewed Gaussian Distribution\"\n",
    "\n",
    "samples = true_dist.rvs(size=sample_size)\n",
    "pointwise_dist = fit_distribution(samples=samples, num_quantiles=num_quantiles)\n",
    "discrete_dist = stats.rv_discrete(values=(samples, np.array([1 / len(samples)] * len(samples))))"
   ]
  },
  {
   "cell_type": "code",
   "execution_count": null,
   "metadata": {},
   "outputs": [],
   "source": [
    "pointwise_dist.densities"
   ]
  },
  {
   "cell_type": "code",
   "execution_count": null,
   "metadata": {},
   "outputs": [],
   "source": [
    "pointwise_dist.intervals"
   ]
  },
  {
   "cell_type": "code",
   "execution_count": 8,
   "metadata": {},
   "outputs": [],
   "source": [
    "def _mid(interval):\n",
    "    left, right = interval\n",
    "    return (right + left) / 2\n",
    "\n",
    "interval_centers = list(map(_mid, pointwise_dist.intervals))"
   ]
  },
  {
   "cell_type": "markdown",
   "metadata": {},
   "source": [
    "### Density Plot"
   ]
  },
  {
   "cell_type": "code",
   "execution_count": 9,
   "metadata": {},
   "outputs": [],
   "source": [
    "dist_name = true_dist.name\n",
    "mean = true_dist.mean()\n",
    "std = true_dist.std()"
   ]
  },
  {
   "cell_type": "code",
   "execution_count": null,
   "metadata": {},
   "outputs": [],
   "source": [
    "fig = plt.figure()\n",
    "\n",
    "title = f\"{dist_name} (mean={round(mean, 2)}, std={round(std, 2)})\"\n",
    "plt.title(title)\n",
    "# plot true distribution\n",
    "x = np.linspace(mean - 3 * std, mean + 3 * std, 100)\n",
    "plt.plot(x, true_dist.pdf(x), label=\"Actual\", alpha=0.8)\n",
    "\n",
    "# plot estimated distribution \n",
    "plt.step(interval_centers, pointwise_dist.densities, where=\"mid\", label=\"Estimated\", alpha=0.8)\n",
    "plt.legend(loc=\"upper right\")\n",
    "plt.xlabel(\"x\")\n",
    "plt.ylabel(\"pdf(x)\")\n",
    "plt.tight_layout()"
   ]
  },
  {
   "cell_type": "code",
   "execution_count": 11,
   "metadata": {},
   "outputs": [],
   "source": [
    "# save\n",
    "# fig.savefig(output_dir + f\"/{title}_pdf_plot.pdf\")"
   ]
  },
  {
   "cell_type": "markdown",
   "metadata": {},
   "source": [
    "### CDF Plot"
   ]
  },
  {
   "cell_type": "code",
   "execution_count": null,
   "metadata": {},
   "outputs": [],
   "source": [
    "fig = plt.figure()\n",
    "\n",
    "title = f\"{dist_name} (mean={round(mean, 2)}, std={round(std, 2)})\"\n",
    "plt.title(title)\n",
    "# plot true distribution\n",
    "x = np.linspace(mean - 3 * std, mean + 3 * std, 100)\n",
    "plt.plot(x, true_dist.cdf(x), label=\"Actual\", alpha=0.8)\n",
    "\n",
    "# plot estimated distribution \n",
    "cdfs = [pointwise_dist.cdf(i) for i in x]\n",
    "plt.plot(x, cdfs, label=\"Estimated\", alpha=0.8)\n",
    "plt.legend(loc=\"lower right\")\n",
    "plt.xlabel(\"x\")\n",
    "plt.ylabel(\"cdf(x)\")\n",
    "plt.tight_layout()"
   ]
  },
  {
   "cell_type": "code",
   "execution_count": 53,
   "metadata": {},
   "outputs": [],
   "source": [
    "# save\n",
    "# fig.savefig(output_dir + f\"/{title}_cdf_plot.pdf\")"
   ]
  },
  {
   "cell_type": "markdown",
   "metadata": {},
   "source": [
    "### Sampling Histogram Plot"
   ]
  },
  {
   "cell_type": "code",
   "execution_count": null,
   "metadata": {},
   "outputs": [],
   "source": [
    "n_samples = len(samples)\n",
    "true_samples = true_dist.rvs(size=n_samples)\n",
    "bins = np.histogram_bin_edges(true_samples, bins=num_quantiles)\n",
    "\n",
    "\n",
    "fig = plt.figure()\n",
    "title = f\"{dist_name} (mean={round(mean, 2)}, std={round(std, 2)})\"\n",
    "plt.title(title)\n",
    "\n",
    "\n",
    "# plot true distribution\n",
    "plt.hist(true_samples, bins=bins, alpha=0.6, label=\"Actual\")\n",
    "\n",
    "# plot estimated distribution \n",
    "plt.hist(pointwise_dist.rvs(size=n_samples), bins=bins, alpha=0.6, label=\"Estimated\")\n",
    "\n",
    "\n",
    "plt.legend(loc=\"upper right\") \n",
    "plt.xlabel(\"value\")\n",
    "plt.ylabel(\"Frequency\")\n",
    "plt.tight_layout()"
   ]
  },
  {
   "cell_type": "code",
   "execution_count": 60,
   "metadata": {},
   "outputs": [],
   "source": [
    "# save\n",
    "# fig.savefig(output_dir + f\"/{title}_rvs_plot.pdf\")"
   ]
  },
  {
   "cell_type": "code",
   "execution_count": null,
   "metadata": {},
   "outputs": [],
   "source": []
  }
 ],
 "metadata": {
  "kernelspec": {
   "display_name": "nas_cp",
   "language": "python",
   "name": "python3"
  },
  "language_info": {
   "codemirror_mode": {
    "name": "ipython",
    "version": 3
   },
   "file_extension": ".py",
   "mimetype": "text/x-python",
   "name": "python",
   "nbconvert_exporter": "python",
   "pygments_lexer": "ipython3",
   "version": "3.10.16"
  }
 },
 "nbformat": 4,
 "nbformat_minor": 2
}
