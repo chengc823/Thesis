{
 "cells": [
  {
   "cell_type": "markdown",
   "metadata": {},
   "source": [
    "This notebooks checks the approximation quality of a distribution derived from quantile values."
   ]
  },
  {
   "cell_type": "code",
   "execution_count": 2,
   "metadata": {},
   "outputs": [],
   "source": [
    "output_dir = \"./figs/distribution_quality/sample_size=75\""
   ]
  },
  {
   "cell_type": "code",
   "execution_count": 3,
   "metadata": {},
   "outputs": [],
   "source": [
    "import numpy as np\n",
    "import math\n",
    "import scipy.stats as stats\n",
    "import matplotlib.pyplot as plt\n",
    "from matplotlib import rcParams\n",
    "from naslib.optimizers.bananas.distribution import PointwiseInterpolatedDist"
   ]
  },
  {
   "cell_type": "code",
   "execution_count": 4,
   "metadata": {},
   "outputs": [],
   "source": [
    "plt.style.use('ggplot')\n",
    "rcParams['axes.titlepad'] = 20 \n",
    "rcParams['font.size'] = 9"
   ]
  },
  {
   "cell_type": "code",
   "execution_count": 5,
   "metadata": {},
   "outputs": [],
   "source": [
    "def fit_distribution(samples, num_quantiles) -> PointwiseInterpolatedDist:\n",
    "    sample_size = len(samples)\n",
    "    # estimate standard deviation and quantiles\n",
    "    std = np.std(samples)\n",
    "\n",
    "    pk = np.linspace(0, 1, num_quantiles + 1)\n",
    "    qk = []\n",
    "    for p in pk:\n",
    "        adj_p = min(math.ceil((sample_size + 1) * p) / sample_size, 1.0)\n",
    "        qk.append(np.quantile(samples, adj_p))\n",
    "    \n",
    "    return PointwiseInterpolatedDist(values=(pk, qk), std=std)\n"
   ]
  },
  {
   "cell_type": "code",
   "execution_count": 99,
   "metadata": {},
   "outputs": [],
   "source": [
    "num_quantiles = 20\n",
    "sample_size = 75\n",
    "true_dist = stats.norm(loc=0, scale=2)\n",
    "true_dist.name = \"Gaussian Distribution\"\n",
    "\n",
    "samples = true_dist.rvs(size=sample_size)\n",
    "est_dist = fit_distribution(samples=samples, num_quantiles=num_quantiles)"
   ]
  },
  {
   "cell_type": "code",
   "execution_count": null,
   "metadata": {},
   "outputs": [],
   "source": [
    "est_dist.densities"
   ]
  },
  {
   "cell_type": "code",
   "execution_count": null,
   "metadata": {},
   "outputs": [],
   "source": [
    "est_dist.intervals"
   ]
  },
  {
   "cell_type": "code",
   "execution_count": 102,
   "metadata": {},
   "outputs": [],
   "source": [
    "def _mid(interval):\n",
    "    left, right = interval\n",
    "    return (right + left) / 2\n",
    "\n",
    "interval_centers = list(map(_mid, est_dist.intervals))"
   ]
  },
  {
   "cell_type": "markdown",
   "metadata": {},
   "source": [
    "### Density Plot"
   ]
  },
  {
   "cell_type": "code",
   "execution_count": 103,
   "metadata": {},
   "outputs": [],
   "source": [
    "dist_name = true_dist.name\n",
    "mean = true_dist.mean()\n",
    "std = true_dist.std()"
   ]
  },
  {
   "cell_type": "code",
   "execution_count": null,
   "metadata": {},
   "outputs": [],
   "source": [
    "fig = plt.figure()\n",
    "\n",
    "title = f\"{dist_name} (mean={mean}, std={std})\"\n",
    "plt.title(title)\n",
    "# plot true distribution\n",
    "x = np.linspace(mean - 3 * std, mean + 3 * std, 100)\n",
    "plt.plot(x, true_dist.pdf(x), label=\"Actual\", alpha=0.8)\n",
    "\n",
    "# plot estimated distribution \n",
    "plt.step(interval_centers, est_dist.densities, where=\"mid\", label=\"Estimated\", alpha=0.8)\n",
    "plt.legend(loc=\"upper right\")\n",
    "plt.xlabel(\"x\")\n",
    "plt.ylabel(\"pdf(x)\")\n",
    "plt.tight_layout()\n",
    "\n",
    "# save\n",
    "# fig.savefig(output_dir + f\"/{title}_pdf_plot.pdf\")"
   ]
  },
  {
   "cell_type": "markdown",
   "metadata": {},
   "source": [
    "### CDF Plot"
   ]
  },
  {
   "cell_type": "code",
   "execution_count": null,
   "metadata": {},
   "outputs": [],
   "source": [
    "fig = plt.figure()\n",
    "\n",
    "title = f\"{dist_name} (mean={mean}, std={std})\"\n",
    "plt.title(title)\n",
    "# plot true distribution\n",
    "x = np.linspace(mean - 3 * std, mean + 3 * std, 100)\n",
    "plt.plot(x, true_dist.cdf(x), label=\"Actual\", alpha=0.8)\n",
    "\n",
    "# plot estimated distribution \n",
    "cdfs = [est_dist.cdf(i) for i in x]\n",
    "plt.plot(x, cdfs, label=\"Estimated\", alpha=0.8)\n",
    "plt.legend(loc=\"lower right\")\n",
    "plt.xlabel(\"x\")\n",
    "plt.ylabel(\"cdf(x)\")\n",
    "plt.tight_layout()\n",
    "\n",
    "# save\n",
    "# fig.savefig(output_dir + f\"/{title}_cdf_plot.pdf\")"
   ]
  },
  {
   "cell_type": "markdown",
   "metadata": {},
   "source": [
    "### Sampling Histogram Plot"
   ]
  },
  {
   "cell_type": "code",
   "execution_count": null,
   "metadata": {},
   "outputs": [],
   "source": [
    "bins = 20\n",
    "n_samples = len(samples)\n",
    "\n",
    "fig = plt.figure()\n",
    "\n",
    "title = f\"{dist_name} (mean={mean}, std={std})\"\n",
    "plt.title(title)\n",
    "# plot true distribution\n",
    "plt.hist(true_dist.rvs(size=n_samples), bins=bins, alpha=0.7, label=\"Actual\")\n",
    "\n",
    "# plot estimated distribution \n",
    "plt.hist(est_dist.rvs(size=n_samples), bins=bins, alpha=0.7, label=f\"Estimated\")\n",
    "\n",
    "\n",
    "plt.legend(loc=\"upper right\") \n",
    "plt.xlabel(\"value\")\n",
    "plt.ylabel(\"Frequency\")\n",
    "plt.tight_layout()"
   ]
  },
  {
   "cell_type": "code",
   "execution_count": 94,
   "metadata": {},
   "outputs": [],
   "source": [
    "# save\n",
    "fig.savefig(output_dir + f\"/{title}_rvs_plot.pdf\")"
   ]
  },
  {
   "cell_type": "code",
   "execution_count": null,
   "metadata": {},
   "outputs": [],
   "source": []
  }
 ],
 "metadata": {
  "kernelspec": {
   "display_name": "nas_cp",
   "language": "python",
   "name": "python3"
  },
  "language_info": {
   "codemirror_mode": {
    "name": "ipython",
    "version": 3
   },
   "file_extension": ".py",
   "mimetype": "text/x-python",
   "name": "python",
   "nbconvert_exporter": "python",
   "pygments_lexer": "ipython3",
   "version": "3.10.16"
  }
 },
 "nbformat": 4,
 "nbformat_minor": 2
}
