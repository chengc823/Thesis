{
 "cells": [
  {
   "cell_type": "code",
   "execution_count": null,
   "metadata": {},
   "outputs": [],
   "source": [
    "import pandas as pd\n",
    "from matplotlib import rcParams\n",
    "import matplotlib.pyplot as plt\n",
    "import seaborn as sns\n",
    "from naslib.trial import get_dataset_api"
   ]
  },
  {
   "cell_type": "code",
   "execution_count": null,
   "metadata": {},
   "outputs": [],
   "source": [
    "sns.set_style(\"white\")\n",
    "rcParams['axes.titlepad'] = 15 \n",
    "rcParams['font.size'] = 9"
   ]
  },
  {
   "cell_type": "code",
   "execution_count": null,
   "metadata": {},
   "outputs": [],
   "source": [
    "def histplot_model_performance(data: pd.Series, xlabel=\"Validation Accuracy\"):\n",
    "    fig, ax = plt.subplots(1,1)\n",
    "    ax = sns.histplot(data=data, bins=50, ax=ax, shrink=1.0)\n",
    "    \n",
    "    plt.xlabel(xlabel, labelpad=1.2)\n",
    "    plt.ylabel(\"Frequency\")\n",
    "    plt.tight_layout()\n",
    "    return fig"
   ]
  },
  {
   "cell_type": "code",
   "execution_count": null,
   "metadata": {},
   "outputs": [],
   "source": [
    "search_space = \"nasbench201\""
   ]
  },
  {
   "cell_type": "markdown",
   "metadata": {},
   "source": [
    "Cifar10"
   ]
  },
  {
   "cell_type": "code",
   "execution_count": null,
   "metadata": {},
   "outputs": [],
   "source": [
    "threhold = 0\n",
    "dataset_api = get_dataset_api(search_space_type=search_space, dataset=\"cifar10\")\n",
    "\n",
    "val_acc_cifar10 = [] \n",
    "api = dataset_api['nb201_data']\n",
    "for model, info in api.items():\n",
    "    val_acc_cifar10.append(api[model][\"cifar10-valid\"][\"eval_acc1es\"][-1])\n",
    "\n",
    "val_acc_cifar10 = pd.Series(val_acc_cifar10)\n",
    "val_acc_high_cifar10 = val_acc_cifar10[val_acc_cifar10 > threhold]"
   ]
  },
  {
   "cell_type": "code",
   "execution_count": null,
   "metadata": {},
   "outputs": [],
   "source": [
    "fig_cifar10 = histplot_model_performance(data=val_acc_high_cifar10, xlabel=\"CIFAR10\")"
   ]
  },
  {
   "cell_type": "markdown",
   "metadata": {},
   "source": [
    "cifar100"
   ]
  },
  {
   "cell_type": "code",
   "execution_count": null,
   "metadata": {},
   "outputs": [],
   "source": [
    "threhold = 0\n",
    "dataset_api = get_dataset_api(search_space_type=search_space, dataset=\"cifar100\")\n",
    "\n",
    "val_acc_cifar100 = [] \n",
    "api = dataset_api['nb201_data']\n",
    "for model, info in api.items():\n",
    "    val_acc_cifar100.append(api[model][\"cifar100\"][\"eval_acc1es\"][-1])\n",
    "\n",
    "val_acc_cifar100 = pd.Series(val_acc_cifar100)\n",
    "val_acc_high_cifar100 = val_acc_cifar100[val_acc_cifar100 > threhold]"
   ]
  },
  {
   "cell_type": "code",
   "execution_count": null,
   "metadata": {},
   "outputs": [],
   "source": [
    "fig_cifar100 = histplot_model_performance(data=val_acc_high_cifar100, xlabel=\"CIFAR100\")"
   ]
  },
  {
   "cell_type": "markdown",
   "metadata": {},
   "source": [
    "ImageNet16-120"
   ]
  },
  {
   "cell_type": "code",
   "execution_count": null,
   "metadata": {},
   "outputs": [],
   "source": [
    "threhold = 0\n",
    "dataset_api = get_dataset_api(search_space_type=search_space, dataset=\"ImageNet16-120\")\n",
    "\n",
    "val_acc_imgnet = [] \n",
    "api = dataset_api['nb201_data']\n",
    "for model, info in api.items():\n",
    "    val_acc_imgnet.append(api[model][\"ImageNet16-120\"][\"eval_acc1es\"][-1])\n",
    "\n",
    "val_acc_imgnet = pd.Series(val_acc_imgnet)\n",
    "val_acc_high_imgnet = val_acc_imgnet[val_acc_imgnet >= threhold]"
   ]
  },
  {
   "cell_type": "code",
   "execution_count": null,
   "metadata": {},
   "outputs": [],
   "source": [
    "fig_imgnet = histplot_model_performance(data=val_acc_high_imgnet)"
   ]
  },
  {
   "cell_type": "code",
   "execution_count": null,
   "metadata": {},
   "outputs": [],
   "source": [
    "import matplotlib.pyplot as plt\n",
    "\n",
    "# Create a new figure with 1 row, 3 columns\n",
    "fig, axes = plt.subplots(1, 3, figsize=(15, 4))\n",
    "\n",
    "# cifar 10\n",
    "sns.histplot(data=val_acc_high_cifar10, bins=50, ax=axes[0], shrink=1.0)\n",
    "axes[0].set_xlabel(\"CIFAR10\", labelpad=10)\n",
    "axes[0].set_ylabel(\"Frequency\")\n",
    "\n",
    "# cifar 100\n",
    "sns.histplot(data=val_acc_high_cifar100, bins=50, ax=axes[1], shrink=1.0)\n",
    "axes[1].set_xlabel(\"CIFAR100\", labelpad=10)\n",
    "axes[1].set_ylabel(\"Frequency\")\n",
    "\n",
    "# cifar 100\n",
    "sns.histplot(data=val_acc_high_imgnet, bins=50, ax=axes[2], shrink=1.0)\n",
    "axes[2].set_xlabel(\"ImageNet16-120\", labelpad=10)\n",
    "axes[2].set_ylabel(\"Frequency\")\n",
    "\n",
    "# Adjust layout\n",
    "plt.tight_layout()\n",
    "plt.show()"
   ]
  },
  {
   "cell_type": "code",
   "execution_count": null,
   "metadata": {},
   "outputs": [],
   "source": [
    "output_dir = \"/Users/chengchen/GitHub/master_thesis/report/thesis/figs\"\n",
    "fig.savefig(output_dir + f\"/nas_bench_201_val_acc.pdf\")"
   ]
  },
  {
   "cell_type": "code",
   "execution_count": null,
   "metadata": {},
   "outputs": [],
   "source": []
  }
 ],
 "metadata": {
  "kernelspec": {
   "display_name": "nas_cp",
   "language": "python",
   "name": "python3"
  },
  "language_info": {
   "codemirror_mode": {
    "name": "ipython",
    "version": 3
   },
   "file_extension": ".py",
   "mimetype": "text/x-python",
   "name": "python",
   "nbconvert_exporter": "python",
   "pygments_lexer": "ipython3",
   "version": "3.10.18"
  }
 },
 "nbformat": 4,
 "nbformat_minor": 2
}
