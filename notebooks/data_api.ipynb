{
 "cells": [
  {
   "cell_type": "code",
   "execution_count": 45,
   "metadata": {},
   "outputs": [],
   "source": [
    "import pandas as pd\n",
    "from matplotlib import rcParams\n",
    "import matplotlib.pyplot as plt\n",
    "import seaborn as sns\n",
    "from naslib.trial import get_dataset_api"
   ]
  },
  {
   "cell_type": "code",
   "execution_count": 46,
   "metadata": {},
   "outputs": [],
   "source": [
    "sns.set_style(\"darkgrid\")\n",
    "rcParams['axes.titlepad'] = 15 \n",
    "rcParams['font.size'] = 9"
   ]
  },
  {
   "cell_type": "code",
   "execution_count": 51,
   "metadata": {},
   "outputs": [],
   "source": [
    "def histplot_model_performance(data: pd.Series):\n",
    "    fig, ax = plt.subplots(1,1)\n",
    "    ax = sns.histplot(data=data, bins=30, ax=ax, shrink=1.0, color=\"blue\")\n",
    "    \n",
    "    plt.xlabel(\"Validation Accuracy\")\n",
    "    plt.ylabel(\"Frequency\")\n",
    "    plt.tight_layout()\n",
    "    return fig"
   ]
  },
  {
   "cell_type": "code",
   "execution_count": 52,
   "metadata": {},
   "outputs": [],
   "source": [
    "search_space = \"nasbench201\""
   ]
  },
  {
   "cell_type": "markdown",
   "metadata": {},
   "source": [
    "Cifar10"
   ]
  },
  {
   "cell_type": "code",
   "execution_count": 53,
   "metadata": {},
   "outputs": [],
   "source": [
    "threhold = 75\n",
    "dataset_api = get_dataset_api(search_space_type=search_space, dataset=\"cifar10\")\n",
    "\n",
    "val_acc = [] \n",
    "api = dataset_api['nb201_data']\n",
    "for model, info in api.items():\n",
    "    val_acc.append(api[model][\"cifar10-valid\"][\"eval_acc1es\"][-1])\n",
    "\n",
    "val_acc = pd.Series(val_acc)\n",
    "val_acc_high = val_acc[val_acc >= threhold]"
   ]
  },
  {
   "cell_type": "code",
   "execution_count": null,
   "metadata": {},
   "outputs": [],
   "source": [
    "fig = histplot_model_performance(data=val_acc_high)"
   ]
  },
  {
   "cell_type": "markdown",
   "metadata": {},
   "source": [
    "cifar100"
   ]
  },
  {
   "cell_type": "code",
   "execution_count": 44,
   "metadata": {},
   "outputs": [],
   "source": [
    "threhold = 30\n",
    "dataset_api = get_dataset_api(search_space_type=search_space, dataset=\"cifar100\")\n",
    "\n",
    "val_acc = [] \n",
    "api = dataset_api['nb201_data']\n",
    "for model, info in api.items():\n",
    "    val_acc.append(api[model][\"cifar100\"][\"eval_acc1es\"][-1])\n",
    "\n",
    "val_acc = pd.Series(val_acc)\n",
    "val_acc_high = val_acc[val_acc >= threhold]"
   ]
  },
  {
   "cell_type": "code",
   "execution_count": null,
   "metadata": {},
   "outputs": [],
   "source": [
    "_ = histplot_model_performance(data=val_acc_high)"
   ]
  },
  {
   "cell_type": "markdown",
   "metadata": {},
   "source": [
    "ImageNet16-120"
   ]
  },
  {
   "cell_type": "code",
   "execution_count": 36,
   "metadata": {},
   "outputs": [],
   "source": [
    "threhold = 10\n",
    "dataset_api = get_dataset_api(search_space_type=search_space, dataset=\"ImageNet16-120\")\n",
    "\n",
    "val_acc = [] \n",
    "api = dataset_api['nb201_data']\n",
    "for model, info in api.items():\n",
    "    val_acc.append(api[model][\"ImageNet16-120\"][\"eval_acc1es\"][-1])\n",
    "\n",
    "val_acc = pd.Series(val_acc)\n",
    "val_acc_high = val_acc[val_acc >= threhold]"
   ]
  },
  {
   "cell_type": "code",
   "execution_count": null,
   "metadata": {},
   "outputs": [],
   "source": [
    "_ = histplot_model_performance(data=val_acc_high)"
   ]
  },
  {
   "cell_type": "code",
   "execution_count": null,
   "metadata": {},
   "outputs": [],
   "source": []
  }
 ],
 "metadata": {
  "kernelspec": {
   "display_name": "nas_cp",
   "language": "python",
   "name": "python3"
  },
  "language_info": {
   "codemirror_mode": {
    "name": "ipython",
    "version": 3
   },
   "file_extension": ".py",
   "mimetype": "text/x-python",
   "name": "python",
   "nbconvert_exporter": "python",
   "pygments_lexer": "ipython3",
   "version": "3.10.16"
  }
 },
 "nbformat": 4,
 "nbformat_minor": 2
}
