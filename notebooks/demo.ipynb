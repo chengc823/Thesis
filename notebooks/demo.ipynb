{
 "cells": [
  {
   "cell_type": "code",
   "execution_count": 1,
   "metadata": {},
   "outputs": [],
   "source": [
    "from pathlib import Path\n",
    "from naslib.trainer import Trainer\n",
    "from naslib.optimizers.bananas.optimizer import Bananas\n",
    "\n",
    "from naslib.search_spaces.nasbench201.graph import NasBench201SearchSpace\n",
    "\n"
   ]
  },
  {
   "cell_type": "code",
   "execution_count": 2,
   "metadata": {},
   "outputs": [],
   "source": [
    "from naslib.config import FullConfig, NASConfig\n",
    "config = FullConfig(search=NASConfig(epochs=10, seed=42), out_dir=str(Path.home() / \"Desktop\" / \"Experiments\"))"
   ]
  },
  {
   "cell_type": "code",
   "execution_count": 3,
   "metadata": {},
   "outputs": [
    {
     "name": "stdout",
     "output_type": "stream",
     "text": [
      "TRAINING surrogate predictor for epoch=1\n"
     ]
    }
   ],
   "source": [
    "import datetime as dt\n",
    "from naslib.data.api import get_nasbench201_api\n",
    "search_space = NasBench201SearchSpace()\n",
    "\n",
    "optimizer = Bananas(config=config)\n",
    "dataset_api = get_nasbench201_api(dataset=config.dataset)\n",
    "optimizer.adapt_search_space(search_space, dataset_api=dataset_api)\n",
    "\n",
    "trainer = Trainer(optimizer, config)\n",
    "start = dt.datetime.now()\n",
    "\n",
    "trainer.search()        # Search for an architecture\n",
    "end = dt.datetime.now()\n"
   ]
  },
  {
   "cell_type": "code",
   "execution_count": 4,
   "metadata": {},
   "outputs": [
    {
     "data": {
      "text/plain": [
       "86.7"
      ]
     },
     "execution_count": 4,
     "metadata": {},
     "output_type": "execute_result"
    }
   ],
   "source": [
    "trainer.evaluate(dataset_api=dataset_api)      # Evaluate the best architecture"
   ]
  },
  {
   "cell_type": "code",
   "execution_count": null,
   "metadata": {},
   "outputs": [],
   "source": []
  }
 ],
 "metadata": {
  "kernelspec": {
   "display_name": "nas_cp",
   "language": "python",
   "name": "python3"
  },
  "language_info": {
   "codemirror_mode": {
    "name": "ipython",
    "version": 3
   },
   "file_extension": ".py",
   "mimetype": "text/x-python",
   "name": "python",
   "nbconvert_exporter": "python",
   "pygments_lexer": "ipython3",
   "version": "3.10.16"
  }
 },
 "nbformat": 4,
 "nbformat_minor": 2
}
