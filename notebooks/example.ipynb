{
 "cells": [
  {
   "cell_type": "code",
   "execution_count": 1,
   "metadata": {},
   "outputs": [
    {
     "name": "stdout",
     "output_type": "stream",
     "text": [
      "/Users/chengchen/GitHub/master_thesis\n"
     ]
    }
   ],
   "source": [
    "cd .."
   ]
  },
  {
   "cell_type": "code",
   "execution_count": 2,
   "metadata": {},
   "outputs": [],
   "source": [
    "from naslib.trainer import Trainer\n",
    "from naslib.optimizers.bananas.optimizer import Bananas\n",
    "\n",
    "from naslib.search_spaces.nasbench201.graph import NasBench201SearchSpace\n"
   ]
  },
  {
   "cell_type": "code",
   "execution_count": 3,
   "metadata": {},
   "outputs": [],
   "source": [
    "from naslib.config import FullConfig\n",
    "config = FullConfig()"
   ]
  },
  {
   "cell_type": "code",
   "execution_count": 4,
   "metadata": {},
   "outputs": [],
   "source": [
    "import pickle\n",
    "import os\n",
    "def get_nasbench201_api(dataset=None):\n",
    "    \"\"\"\n",
    "    Load the NAS-Bench-201 data\n",
    "    \"\"\"\n",
    "    datafiles = {\n",
    "        'cifar10': 'nb201_cifar10_full_training.pickle',\n",
    "        'cifar100': 'nb201_cifar100_full_training.pickle',\n",
    "        'ImageNet16-120': 'nb201_ImageNet16_full_training.pickle',\n",
    "        'ninapro': 'nb201_ninapro_full_training.pickle'\n",
    "    }\n",
    "\n",
    "    datafile_path = os.path.join(\n",
    "       \"/Users/chengchen/GitHub/master_thesis/naslib\", 'data', datafiles[dataset])\n",
    "    assert os.path.exists(datafile_path), f'Could not find {datafile_path}. Please download {datafiles[dataset]} from \\\n",
    "https://drive.google.com/drive/folders/1rwmkqyij3I24zn5GSO6fGv2mzdEfPIEa'\n",
    "\n",
    "    with open(datafile_path, 'rb') as f:\n",
    "        data = pickle.load(f)\n",
    "\n",
    "    return {\"nb201_data\": data}"
   ]
  },
  {
   "cell_type": "code",
   "execution_count": 5,
   "metadata": {},
   "outputs": [
    {
     "data": {
      "text/plain": [
       "86.7"
      ]
     },
     "execution_count": 5,
     "metadata": {},
     "output_type": "execute_result"
    }
   ],
   "source": [
    "search_space = NasBench201SearchSpace()\n",
    "\n",
    "optimizer = Bananas(config=config)\n",
    "dataset_api = get_nasbench201_api(dataset=config.dataset)\n",
    "optimizer.adapt_search_space(search_space, dataset_api=dataset_api)\n",
    "\n",
    "trainer = Trainer(optimizer, config)\n",
    "trainer.search(save=config.save)        # Search for an architecture\n",
    "trainer.evaluate(dataset_api=dataset_api)      # Evaluate the best architecture"
   ]
  },
  {
   "cell_type": "code",
   "execution_count": null,
   "metadata": {},
   "outputs": [],
   "source": []
  }
 ],
 "metadata": {
  "kernelspec": {
   "display_name": "nas_cp",
   "language": "python",
   "name": "python3"
  },
  "language_info": {
   "codemirror_mode": {
    "name": "ipython",
    "version": 3
   },
   "file_extension": ".py",
   "mimetype": "text/x-python",
   "name": "python",
   "nbconvert_exporter": "python",
   "pygments_lexer": "ipython3",
   "version": "3.10.16"
  }
 },
 "nbformat": 4,
 "nbformat_minor": 2
}
