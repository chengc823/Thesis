{
 "cells": [
  {
   "cell_type": "code",
   "execution_count": null,
   "metadata": {},
   "outputs": [],
   "source": [
    "from naslib.utils.io import read_config_from_yaml\n",
    "from naslib.config import FullConfig\n",
    "file_path = \"/Users/chengchen/GitHub/master_thesis/notebooks/experiment.yml\"\n",
    "\n",
    "config = read_config_from_yaml(filepath=file_path, config_type=FullConfig)\n",
    "config.info()"
   ]
  },
  {
   "cell_type": "code",
   "execution_count": null,
   "metadata": {},
   "outputs": [],
   "source": [
    "from naslib.trial import trial\n",
    "import numpy as np\n",
    "from tqdm import tqdm\n",
    "\n",
    "TEST = True\n",
    "output_dir = \"/Users/chengchen/Desktop/test_new\" if TEST else None\n",
    "\n",
    "NUM_TRIALS = 1\n",
    "sampled_seeds = np.arange(0, NUM_TRIALS)\n",
    "for seed in tqdm(sampled_seeds, total=NUM_TRIALS):\n",
    "    seed = int(seed)\n",
    "    trial(config=config, seed=seed, dump_config=True, output_dir=output_dir)"
   ]
  },
  {
   "cell_type": "code",
   "execution_count": null,
   "metadata": {},
   "outputs": [],
   "source": []
  }
 ],
 "metadata": {
  "kernelspec": {
   "display_name": "nas_cp",
   "language": "python",
   "name": "python3"
  },
  "language_info": {
   "codemirror_mode": {
    "name": "ipython",
    "version": 3
   },
   "file_extension": ".py",
   "mimetype": "text/x-python",
   "name": "python",
   "nbconvert_exporter": "python",
   "pygments_lexer": "ipython3",
   "version": "3.10.18"
  }
 },
 "nbformat": 4,
 "nbformat_minor": 2
}
