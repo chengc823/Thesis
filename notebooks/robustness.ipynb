{
 "cells": [
  {
   "cell_type": "code",
   "execution_count": null,
   "id": "3ece13cb",
   "metadata": {},
   "outputs": [],
   "source": [
    "from pathlib import Path\n",
    "import pickle\n",
    "import json\n",
    "import pandas as pd\n",
    "import numpy as np\n",
    "from naslib.data.api import get_nasbench201_robustness_api\n",
    "from naslib.data.nas_bench_201_robustness.robustness_data import RobustnessDataset\n",
    "from naslib.utils.io import read_json"
   ]
  },
  {
   "cell_type": "code",
   "execution_count": null,
   "id": "a448345f",
   "metadata": {},
   "outputs": [],
   "source": [
    "home_dir = Path(\"/Volumes/NO NAME/results/test_mutation/nasbench201\")\n",
    "\n",
    "datasets = [\"cifar10\", \"cifar100\", \"ImageNet16-120\"]\n",
    "algos = [\n",
    "    \"acq=its/num_to_mutate=2/num_init=10/bananas__ensemble_mlp__gaussian__num_quantiles=10\",\n",
    "    \"acq=its/num_to_mutate=2/num_init=10/bananas__ensemble_mlp__CP_split__train_cal_split=05__num_quantiles=10\",\n",
    "    \"acq=its/num_to_mutate=2/num_init=10/bananas__ensemble_mlp__CP_cv__train_cal_split=3__num_quantiles=10\",\n",
    "    \"acq=its/num_to_mutate=2/num_init=10/bananas__ensemble_mlp__CP_bootstrap__num_ensemble=5__num_quantiles=10_absresidual\",\n",
    "    \"acq=its/num_to_mutate=2/num_init=10/bananas__quantile__CP_split__train_cal_split=05__num_quantiles=10\",\n",
    "    \"acq=ei/num_to_mutate=2/num_init=10/bananas__quantile__CP_cv__train_cal_split=3__num_quantiles=10\"\n",
    "]"
   ]
  },
  {
   "cell_type": "markdown",
   "id": "d73f5ca9",
   "metadata": {},
   "source": [
    "### Get the string representation of the best performing architecture "
   ]
  },
  {
   "cell_type": "code",
   "execution_count": null,
   "id": "f24da680",
   "metadata": {},
   "outputs": [],
   "source": [
    "def get_str_repr_best_arch(result_folder: Path):\n",
    "    with open(result_folder / \"search_log.pt\", \"rb\") as f:\n",
    "        history, obs_and_dist = pickle.load(f)\n",
    "\n",
    "        # get the best architecture\n",
    "        val_scores, _ = list(zip(*obs_and_dist))\n",
    "        best_arch_idx = val_scores.index(max(val_scores))\n",
    "        arch_str = history[best_arch_idx][1]\n",
    "\n",
    "    with open(result_folder / \"arch_name.txt\", \"w\") as f:\n",
    "        f.write(arch_str)"
   ]
  },
  {
   "cell_type": "code",
   "execution_count": null,
   "id": "a2a9b4d9",
   "metadata": {},
   "outputs": [],
   "source": [
    "# for data in datasets:\n",
    "#     for algo in algos:\n",
    "#         algo_folder = home_dir / data / algo\n",
    "#         # get all trial folders\n",
    "#         matches = list(algo_folder.rglob(pattern=f\"./seed=*\"))\n",
    "#         for single_result_folder in matches:\n",
    "#             get_str_repr_best_arch(single_result_folder)"
   ]
  },
  {
   "cell_type": "markdown",
   "id": "7ffd418f",
   "metadata": {},
   "source": [
    "### Get the robustness accuracy"
   ]
  },
  {
   "cell_type": "code",
   "execution_count": null,
   "id": "f506c2e9",
   "metadata": {},
   "outputs": [],
   "source": [
    "ROBUST_CLIENT = RobustnessDataset(path=\"./naslib/data/nas_bench_201_robustness\")"
   ]
  },
  {
   "cell_type": "markdown",
   "id": "5e8336f1",
   "metadata": {},
   "source": [
    "#### Get test accuracy functions"
   ]
  },
  {
   "cell_type": "code",
   "execution_count": null,
   "id": "5a32cc1f",
   "metadata": {},
   "outputs": [],
   "source": [
    "def get_clean_test_accuracy(arch_str: str, dataset: str) -> dict[str, float]:\n",
    "    data_api = get_nasbench201_robustness_api(dataset=dataset, key=\"clean\")\n",
    "    arch_id = ROBUST_CLIENT.string_to_id(s=arch_str)\n",
    "    return {\"clean\": data_api[arch_id]}"
   ]
  },
  {
   "cell_type": "code",
   "execution_count": null,
   "id": "138820c9",
   "metadata": {},
   "outputs": [],
   "source": [
    "def get_aa_apgd_ce_accuracy(arch_str: str, dataset: str) -> dict[str, float]:\n",
    "    data_api = get_nasbench201_robustness_api(dataset=dataset, key=\"aa_apgd-ce@Linf\")\n",
    "    attack_levels = [\"0.1\", \"0.5\", \"1\", \"2\", \"3\", \"4\", \"8\"]\n",
    "\n",
    "    arch_id = ROBUST_CLIENT.string_to_id(s=arch_str)\n",
    "    accuracies = data_api[arch_id]\n",
    "    assert len(accuracies) == len(attack_levels)\n",
    "\n",
    "    return {f\"aa_apgd-ce@Linf_{level}\": accuracies[idx] for idx, level in enumerate(attack_levels)}"
   ]
  },
  {
   "cell_type": "code",
   "execution_count": null,
   "id": "8db4da66",
   "metadata": {},
   "outputs": [],
   "source": [
    "def get_aa_square_accuracy(arch_str: str, dataset: str) -> dict[str, float]:\n",
    "    data_api = get_nasbench201_robustness_api(dataset=dataset, key=\"aa_square@Linf\")\n",
    "    attack_levels = [\"0.1\", \"0.5\", \"1\", \"2\", \"3\", \"4\", \"8\"]\n",
    "\n",
    "    arch_id = ROBUST_CLIENT.string_to_id(s=arch_str)\n",
    "    accuracies = data_api[arch_id]\n",
    "    assert len(accuracies) == len(attack_levels)\n",
    "\n",
    "    return {f\"aa_square@Linf_{level}\": accuracies[idx] for idx, level in enumerate(attack_levels)}"
   ]
  },
  {
   "cell_type": "code",
   "execution_count": null,
   "id": "638b69b1",
   "metadata": {},
   "outputs": [],
   "source": [
    "def get_fgsm_accuracy(arch_str: str, dataset: str) -> dict[str, float]:\n",
    "    data_api = get_nasbench201_robustness_api(dataset=dataset, key=\"fgsm@Linf\")\n",
    "    attack_levels = [\"0.1\", \"0.5\", \"1\", \"2\", \"3\", \"4\", \"5\", \"6\", \"7\", \"8\", \"255\"]\n",
    "\n",
    "    arch_id = ROBUST_CLIENT.string_to_id(s=arch_str)\n",
    "    accuracies = data_api[arch_id]\n",
    "    assert len(accuracies) == len(attack_levels)\n",
    "\n",
    "    return {f\"fgsm@Linf_{level}\": accuracies[idx] for idx, level in enumerate(attack_levels)}"
   ]
  },
  {
   "cell_type": "code",
   "execution_count": null,
   "id": "78d49b00",
   "metadata": {},
   "outputs": [],
   "source": [
    "def get_pgd_accuracy(arch_str: str, dataset: str) -> dict[str, float]:\n",
    "    data_api = get_nasbench201_robustness_api(dataset=dataset, key=\"pgd@Linf\")\n",
    "    attack_levels = [\"0.1\", \"0.5\", \"1\", \"2\", \"3\", \"4\", \"8\"]\n",
    "\n",
    "    arch_id = ROBUST_CLIENT.string_to_id(s=arch_str)\n",
    "    accuracies = data_api[arch_id]\n",
    "    assert len(accuracies) == len(attack_levels)\n",
    "\n",
    "    return {f\"pgd@Linf_{level}\": accuracies[idx] for idx, level in enumerate(attack_levels)}"
   ]
  },
  {
   "cell_type": "markdown",
   "id": "334dce2a",
   "metadata": {},
   "source": [
    "#### Build robust accuracy result files"
   ]
  },
  {
   "cell_type": "code",
   "execution_count": null,
   "id": "61f44a71",
   "metadata": {},
   "outputs": [],
   "source": [
    "def build_robustness_result_log(result_folder: Path, dataset: str):\n",
    "    with open(result_folder / \"arch_name.txt\", \"r\") as f:\n",
    "        arch_str = f.read()\n",
    "\n",
    "    result = {}\n",
    "    result.update(get_clean_test_accuracy(arch_str=arch_str, dataset=dataset))\n",
    "    result.update(get_aa_apgd_ce_accuracy(arch_str=arch_str, dataset=dataset))\n",
    "    result.update(get_aa_square_accuracy(arch_str=arch_str, dataset=dataset))\n",
    "    result.update(get_fgsm_accuracy(arch_str=arch_str, dataset=dataset))\n",
    "    result.update(get_pgd_accuracy(arch_str=arch_str, dataset=dataset))\n",
    "\n",
    "    with open(result_folder / \"robustness.json\", \"w\") as f:\n",
    "        json.dump(result, fp=f)"
   ]
  },
  {
   "cell_type": "code",
   "execution_count": null,
   "id": "1b4dd4a9",
   "metadata": {},
   "outputs": [],
   "source": [
    "# for data in datasets:\n",
    "#     for algo in algos:\n",
    "#         algo_folder = home_dir / data / algo\n",
    "#         # get all trial folders\n",
    "#         print(f\"running {algo_folder}\")\n",
    "#         matches = list(algo_folder.rglob(pattern=f\"./seed=*\"))\n",
    "#         for single_result_folder in matches:\n",
    "#             try:\n",
    "#                 build_robustness_result_log(result_folder=single_result_folder, dataset=data)\n",
    "#             except KeyError:\n",
    "#                 print(f\"{single_result_folder.name} not found in robustness dataset\") "
   ]
  },
  {
   "cell_type": "markdown",
   "id": "6a6fb62d",
   "metadata": {},
   "source": [
    "### Analysis"
   ]
  },
  {
   "cell_type": "code",
   "execution_count": null,
   "id": "81972b9c",
   "metadata": {},
   "outputs": [],
   "source": [
    "ROBUSTNESS_FILENAME = \"robustness.json\"\n",
    "\n",
    "def collect_json_info_all_seeds(folder: Path, filename: str = ROBUSTNESS_FILENAME):\n",
    "    matches = list(folder.rglob(pattern=f\"./seed=*\"))\n",
    "\n",
    "    result = {}\n",
    "    for p in matches:\n",
    "        if not (p / filename).exists():\n",
    "            result[p.name] = pd.DataFrame(index=[0])\n",
    "        else:\n",
    "            result[p.name] = pd.DataFrame(read_json(p / filename), index=[0])\n",
    "    return pd.concat(result, axis=0).droplevel(level=1)\n",
    "    "
   ]
  }
 ],
 "metadata": {
  "kernelspec": {
   "display_name": "nas_cp",
   "language": "python",
   "name": "python3"
  },
  "language_info": {
   "codemirror_mode": {
    "name": "ipython",
    "version": 3
   },
   "file_extension": ".py",
   "mimetype": "text/x-python",
   "name": "python",
   "nbconvert_exporter": "python",
   "pygments_lexer": "ipython3",
   "version": "3.10.18"
  }
 },
 "nbformat": 4,
 "nbformat_minor": 5
}
